{
 "cells": [
  {
   "cell_type": "code",
   "execution_count": 1,
   "id": "0c5030c0-1b29-4c5b-9815-6e4250ac5448",
   "metadata": {
    "tags": []
   },
   "outputs": [
    {
     "name": "stderr",
     "output_type": "stream",
     "text": [
      "2025-02-19 02:33:37.120593: E external/local_xla/xla/stream_executor/cuda/cuda_fft.cc:477] Unable to register cuFFT factory: Attempting to register factory for plugin cuFFT when one has already been registered\n",
      "WARNING: All log messages before absl::InitializeLog() is called are written to STDERR\n",
      "E0000 00:00:1739932417.140552  540959 cuda_dnn.cc:8310] Unable to register cuDNN factory: Attempting to register factory for plugin cuDNN when one has already been registered\n",
      "E0000 00:00:1739932417.146421  540959 cuda_blas.cc:1418] Unable to register cuBLAS factory: Attempting to register factory for plugin cuBLAS when one has already been registered\n",
      "2025-02-19 02:33:37.167985: I tensorflow/core/platform/cpu_feature_guard.cc:210] This TensorFlow binary is optimized to use available CPU instructions in performance-critical operations.\n",
      "To enable the following instructions: AVX2 FMA, in other operations, rebuild TensorFlow with the appropriate compiler flags.\n"
     ]
    }
   ],
   "source": [
    "import os\n",
    "import flatiron.tf.models.unet as fimu"
   ]
  },
  {
   "cell_type": "code",
   "execution_count": 2,
   "id": "9a64e34b-e62f-47ac-a6e2-92a5d35c8c87",
   "metadata": {},
   "outputs": [],
   "source": [
    "# CPU only\n",
    "os.environ['CUDA_VISIBLE_DEVICES'] = '-1'"
   ]
  },
  {
   "cell_type": "code",
   "execution_count": null,
   "id": "0db0036d-04d1-4532-b8ec-0dc542e0eb28",
   "metadata": {
    "tags": []
   },
   "outputs": [
    {
     "name": "stderr",
     "output_type": "stream",
     "text": [
      "2025-02-19 02:46:04.069164: E external/local_xla/xla/stream_executor/cuda/cuda_fft.cc:477] Unable to register cuFFT factory: Attempting to register factory for plugin cuFFT when one has already been registered\n",
      "WARNING: All log messages before absl::InitializeLog() is called are written to STDERR\n",
      "E0000 00:00:1739933164.088632  547202 cuda_dnn.cc:8310] Unable to register cuDNN factory: Attempting to register factory for plugin cuDNN when one has already been registered\n",
      "E0000 00:00:1739933164.094324  547202 cuda_blas.cc:1418] Unable to register cuBLAS factory: Attempting to register factory for plugin cuBLAS when one has already been registered\n",
      "2025-02-19 02:46:04.114905: I tensorflow/core/platform/cpu_feature_guard.cc:210] This TensorFlow binary is optimized to use available CPU instructions in performance-critical operations.\n",
      "To enable the following instructions: AVX2 FMA, in other operations, rebuild TensorFlow with the appropriate compiler flags.\n",
      "WARNING:LogRuntime:BUILD MODEL - Runtime: 0:00:00.204126 (0.2 seconds)\n",
      "WARNING:LogRuntime:COMPILE MODEL\n",
      "\n",
      "RUN TIME:\n",
      "```0.01 seconds (0:00:00.007270)```\n",
      "POST TIME:\n",
      "```2025-02-18T21:46:06.731600-05:00```\n",
      "CONFIG:\n",
      "```compile:\n",
      "    device: cpu\n",
      "    loss: jaccard_loss\n",
      "    metrics:\n",
      "    - jaccard\n",
      "    - dice\n",
      "    tf_auto_scale_loss: true\n",
      "    tf_jit_compile: false\n",
      "    tf_loss_weights: null\n",
      "    tf_run_eagerly: false\n",
      "    tf_steps_per_execution: 1\n",
      "    tf_weighted_metrics: null\n",
      "model:\n",
      "    activation: relu\n",
      "    attention_activation_1: relu\n",
      "    attention_activation_2: sigmoid\n",
      "    attention_gates: false\n",
      "    attention_kernel_initializer: he_normal\n",
      "    attention_kernel_size: 1\n",
      "    attention_padding: same\n",
      "    attention_strides: 1\n",
      "    batch_norm: true\n",
      "    classes: 1\n",
      "    data_format: channels_last\n",
      "    dtype: float16\n",
      "    filters: 16\n",
      "    input_channels: 3\n",
      "    input_height: 208\n",
      "    input_width: 208\n",
      "    kernel_initializer: he_normal\n",
      "    layers: 7\n",
      "    output_activation: sigmoid\n",
      "optimizer:\n",
      "    clipnorm: null\n",
      "    clipvalue: null\n",
      "    ema_momentum: 0.99\n",
      "    ema_overwrite_frequency: null\n",
      "    global_clipnorm: null\n",
      "    gradient_accumulation_steps: null\n",
      "    learning_rate: 0.001\n",
      "    loss_scale_factor: null\n",
      "    momentum: 0.0\n",
      "    name: sgd\n",
      "    nesterov: false\n",
      "    use_ema: false\n",
      "```\n",
      "   \n",
      "WARNING:LogRuntime:TRAIN TEST SPLIT - Runtime: 0:00:00.020273 (0.02 seconds)\n"
     ]
    },
    {
     "data": {
      "application/vnd.jupyter.widget-view+json": {
       "model_id": "611cca3449234e799787fc7614ecb86b",
       "version_major": 2,
       "version_minor": 0
      },
      "text/plain": [
       "May not total to 100% - Loading Dataset Files:   0%|          | 0/8 [00:00<?, ?it/s]"
      ]
     },
     "metadata": {},
     "output_type": "display_data"
    },
    {
     "data": {
      "application/vnd.jupyter.widget-view+json": {
       "model_id": "cd06d56ee8c94bec86a9d75940955925",
       "version_major": 2,
       "version_minor": 0
      },
      "text/plain": [
       "May not total to 100% - Loading Dataset Files:   0%|          | 0/2 [00:00<?, ?it/s]"
      ]
     },
     "metadata": {},
     "output_type": "display_data"
    },
    {
     "name": "stderr",
     "output_type": "stream",
     "text": [
      "WARNING:LogRuntime:LOAD DATASETS\n",
      "\n",
      "RUN TIME:\n",
      "```1.33 seconds (0:00:01.328370)```\n",
      "POST TIME:\n",
      "```2025-02-18T21:46:08.308460-05:00```\n",
      "CONFIG:\n",
      "```dataset:\n",
      "    ext_regex: npy\n",
      "    label_axis: -1\n",
      "    labels:\n",
      "    - 3\n",
      "    limit: 1000\n",
      "    reshape: false\n",
      "    seed: null\n",
      "    shuffle: true\n",
      "    source: /mnt/storage/projects/unet001/dset001/p-unet001_s-dset001_d-glom_v001\n",
      "    test_size: 0.2\n",
      "```\n",
      "   \n"
     ]
    },
    {
     "name": "stdout",
     "output_type": "stream",
     "text": [
      "Epoch 2/30\n"
     ]
    },
    {
     "name": "stderr",
     "output_type": "stream",
     "text": [
      "/home/ubuntu/pdm/envs/pdm-kVbOHlCT-dev-3.10/lib/python3.10/site-packages/keras/src/models/functional.py:237: UserWarning: The structure of `inputs` doesn't match the expected structure.\n",
      "Expected: ['input']\n",
      "Received: inputs=Tensor(shape=(None, 208, 208, 3))\n",
      "  warnings.warn(msg)\n",
      "WARNING: All log messages before absl::InitializeLog() is called are written to STDERR\n",
      "I0000 00:00:1739933173.882310  547318 service.cc:148] XLA service 0x7f358c0171a0 initialized for platform Host (this does not guarantee that XLA will be used). Devices:\n",
      "I0000 00:00:1739933173.882356  547318 service.cc:156]   StreamExecutor device (0): Host, Default Version\n",
      "2025-02-19 02:46:13.982660: I tensorflow/compiler/mlir/tensorflow/utils/dump_mlir_util.cc:268] disabling MLIR crash reproducer, set env var `MLIR_CRASH_REPRODUCER_DIRECTORY` to enable.\n",
      "I0000 00:00:1739933176.656509  547318 device_compiler.h:188] Compiled cluster using XLA!  This line is logged at most once for the lifetime of the process.\n"
     ]
    },
    {
     "name": "stdout",
     "output_type": "stream",
     "text": [
      "\u001b[1m 1/63\u001b[0m \u001b[37m━━━━━━━━━━━━━━━━━━━━\u001b[0m \u001b[1m11:00\u001b[0m 11s/step - dice: 0.0000e+00 - jaccard: 0.0000e+00 - loss: 0.4917"
     ]
    }
   ],
   "source": [
    "uri = os.environ.get('SLACK_URI', '')\n",
    "config = f'''\n",
    "engine: tensorflow\n",
    "model:\n",
    "    input_width: 208\n",
    "    input_height: 208\n",
    "    input_channels: 3\n",
    "    classes: 1\n",
    "    filters: 16\n",
    "    layers: 7\n",
    "    # activation:\n",
    "    # batch_norm:\n",
    "    # output_activation:\n",
    "    # kernel_initializer:\n",
    "    # attention_gates:\n",
    "    # attention_activation_1:\n",
    "    # attention_activation_2:\n",
    "    # attention_kernel_size:\n",
    "    # attention_strides:\n",
    "    # attention_padding:\n",
    "    # attention_kernel_initializer:\n",
    "dataset:\n",
    "    source: /mnt/storage/projects/unet001/dset001/p-unet001_s-dset001_d-glom_v001\n",
    "    ext_regex: npy\n",
    "    labels: [3]\n",
    "    label_axis: -1\n",
    "    limit: 1000\n",
    "    test_size: 0.2\n",
    "    reshape: False\n",
    "optimizer:\n",
    "    name: sgd\n",
    "compile:\n",
    "    loss: jaccard_loss\n",
    "    device: cpu\n",
    "    metrics:\n",
    "        - jaccard\n",
    "        - dice\n",
    "callbacks:\n",
    "    project: unet001\n",
    "    root: /mnt/storage/projects\n",
    "train:\n",
    "    batch_size: 16\n",
    "logger:\n",
    "    slack_url: 'https://hooks.slack.com/services/{uri}'\n",
    "    slack_channel: dev\n",
    "    timezone: 'America/Detroit'\n",
    "'''\n",
    "# pipe = fimu.UNetPipeline \\\n",
    "#     .from_string(config) \\\n",
    "#     .build() \\\n",
    "#     .compile() \\\n",
    "#     .train_test_split() \\\n",
    "#     .load() \\\n",
    "#     .train()\n",
    "\n",
    "pipe = fimu.UNetPipeline \\\n",
    "    .from_string(config) \\\n",
    "    .run()"
   ]
  },
  {
   "cell_type": "code",
   "execution_count": null,
   "id": "cb9896f2-e44b-4131-aa18-b4d932abcc9f",
   "metadata": {},
   "outputs": [],
   "source": []
  }
 ],
 "metadata": {
  "kernelspec": {
   "display_name": "Python 3 (ipykernel)",
   "language": "python",
   "name": "python3"
  },
  "language_info": {
   "codemirror_mode": {
    "name": "ipython",
    "version": 3
   },
   "file_extension": ".py",
   "mimetype": "text/x-python",
   "name": "python",
   "nbconvert_exporter": "python",
   "pygments_lexer": "ipython3",
   "version": "3.10.12"
  }
 },
 "nbformat": 4,
 "nbformat_minor": 5
}
