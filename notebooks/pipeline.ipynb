{
 "cells": [
  {
   "cell_type": "code",
   "execution_count": 1,
   "id": "0c5030c0-1b29-4c5b-9815-6e4250ac5448",
   "metadata": {},
   "outputs": [
    {
     "name": "stdout",
     "output_type": "stream",
     "text": [
      "/home/ubuntu/flatiron/python\n"
     ]
    },
    {
     "name": "stderr",
     "output_type": "stream",
     "text": [
      "2023-01-31 09:01:30.933576: I tensorflow/core/platform/cpu_feature_guard.cc:193] This TensorFlow binary is optimized with oneAPI Deep Neural Network Library (oneDNN) to use the following CPU instructions in performance-critical operations:  AVX2 FMA\n",
      "To enable them in other operations, rebuild TensorFlow with the appropriate compiler flags.\n"
     ]
    }
   ],
   "source": [
    "import os\n",
    "\n",
    "import schematics as scm\n",
    "import schematics.types as scmt\n",
    "\n",
    "import pandas as pd\n",
    "import numpy as np\n",
    "\n",
    "%cd ~/flatiron/python\n",
    "\n",
    "from flatiron.core.pipeline import *"
   ]
  },
  {
   "cell_type": "code",
   "execution_count": 2,
   "id": "8e23045b-7f09-430e-917f-d2b340c58d10",
   "metadata": {},
   "outputs": [],
   "source": [
    "class FooConfig(scm.Model):\n",
    "    bar = scmt.StringType(required=True)\n",
    "\n",
    "class FooPipeline(PipelineBase):\n",
    "    _model_config_class = FooConfig\n",
    "    \n",
    "    def build(self):\n",
    "        pass\n",
    "\n",
    "def create_fake_asset(root):\n",
    "    chunks = [\n",
    "        'data/chunk_f00.npy',\n",
    "        'data/chunk_f01.npy',\n",
    "    ]\n",
    "    os.makedirs(root, exist_ok=True)\n",
    "    os.makedirs(Path(root, 'data'), exist_ok=True)\n",
    "    data = pd.DataFrame()\n",
    "    data['filepath_relative'] = chunks\n",
    "    data['asset_path'] = root\n",
    "    csv_path = Path(root, 'info.csv').as_posix()\n",
    "    data.to_csv(csv_path, index=False)\n",
    "    shape = (100, 10, 10, 3)\n",
    "    arr = np.ones(shape, dtype=np.float16)\n",
    "    for chunk in chunks:\n",
    "        np.save(Path(root, chunk), arr)\n",
    "    return data"
   ]
  },
  {
   "cell_type": "code",
   "execution_count": 5,
   "id": "e18560fa-d219-43a4-824e-01c14a5b7627",
   "metadata": {},
   "outputs": [
    {
     "data": {
      "application/vnd.jupyter.widget-view+json": {
       "model_id": "857c7ac361274eba9a14c6fa2b310214",
       "version_major": 2,
       "version_minor": 0
      },
      "text/plain": [
       "Loading Dataset Chunks:   0%|          | 0/2 [00:00<?, ?it/s]"
      ]
     },
     "metadata": {},
     "output_type": "display_data"
    },
    {
     "data": {
      "text/plain": [
       "((160, 10, 10, 3), (40, 10, 10, 3))"
      ]
     },
     "execution_count": 5,
     "metadata": {},
     "output_type": "execute_result"
    }
   ],
   "source": [
    "root = '/tmp/foobar'\n",
    "d = create_fake_asset(root)\n",
    "config = dict(\n",
    "    model=dict(bar='baz'),\n",
    "    dataset=dict(\n",
    "        source=root,\n",
    "        # load_limit=100,\n",
    "        split_index=3,\n",
    "    )\n",
    ")\n",
    "p = FooPipeline(config) \\\n",
    "    .load() \\\n",
    "    .train_test_split() \\\n",
    "    .unload()\n",
    "\n",
    "p.x_train.shape, p.x_test.shape"
   ]
  },
  {
   "cell_type": "code",
   "execution_count": null,
   "id": "68a9cb90-38f7-4d1b-9861-73ad342bff53",
   "metadata": {},
   "outputs": [],
   "source": []
  }
 ],
 "metadata": {
  "kernelspec": {
   "display_name": "Python 3 (ipykernel)",
   "language": "python",
   "name": "python3"
  },
  "language_info": {
   "codemirror_mode": {
    "name": "ipython",
    "version": 3
   },
   "file_extension": ".py",
   "mimetype": "text/x-python",
   "name": "python",
   "nbconvert_exporter": "python",
   "pygments_lexer": "ipython3",
   "version": "3.10.9"
  }
 },
 "nbformat": 4,
 "nbformat_minor": 5
}
