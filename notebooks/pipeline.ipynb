{
 "cells": [
  {
   "cell_type": "code",
   "execution_count": 1,
   "id": "0c5030c0-1b29-4c5b-9815-6e4250ac5448",
   "metadata": {},
   "outputs": [
    {
     "name": "stdout",
     "output_type": "stream",
     "text": [
      "/home/ubuntu/flatiron/python\n"
     ]
    },
    {
     "name": "stderr",
     "output_type": "stream",
     "text": [
      "2023-02-04 00:13:37.690147: I tensorflow/core/platform/cpu_feature_guard.cc:193] This TensorFlow binary is optimized with oneAPI Deep Neural Network Library (oneDNN) to use the following CPU instructions in performance-critical operations:  AVX2 FMA\n",
      "To enable them in other operations, rebuild TensorFlow with the appropriate compiler flags.\n"
     ]
    }
   ],
   "source": [
    "import os\n",
    "\n",
    "import schematics as scm\n",
    "import schematics.types as scmt\n",
    "\n",
    "import pandas as pd\n",
    "import numpy as np\n",
    "import tensorboard.notebook as tbnb\n",
    "\n",
    "%cd ~/flatiron/python\n",
    "import flatiron.core.tools as fict\n",
    "import flatiron.core.dataset as ficd\n",
    "import flatiron.core.logging as ficl\n",
    "import flatiron.models.unet as fimu\n",
    "from flatiron.core.pipeline import *"
   ]
  },
  {
   "cell_type": "code",
   "execution_count": null,
   "id": "0db0036d-04d1-4532-b8ec-0dc542e0eb28",
   "metadata": {
    "tags": []
   },
   "outputs": [
    {
     "data": {
      "application/vnd.jupyter.widget-view+json": {
       "model_id": "5ee7907ff84345698878dbefe97081fb",
       "version_major": 2,
       "version_minor": 0
      },
      "text/plain": [
       "May not total to 100% - Loading Dataset Chunks:   0%|          | 0/10 [00:00<?, ?it/s]"
      ]
     },
     "metadata": {},
     "output_type": "display_data"
    },
    {
     "name": "stderr",
     "output_type": "stream",
     "text": [
      "WARNING:LogRuntime:LOAD DATASET - Runtime: 0:00:00.355445 (0.36 seconds)\n",
      "WARNING:LogRuntime:TRAIN TEST SPLIT - Runtime: 0:00:00.346274 (0.35 seconds)\n",
      "WARNING:LogRuntime:UNLOAD DATASET - Runtime: 0:00:00.027163 (0.03 seconds)\n",
      "2023-02-03 23:14:38.253518: E tensorflow/compiler/xla/stream_executor/cuda/cuda_driver.cc:267] failed call to cuInit: UNKNOWN ERROR (34)\n",
      "2023-02-03 23:14:38.253593: I tensorflow/compiler/xla/stream_executor/cuda/cuda_diagnostics.cc:156] kernel driver does not appear to be running on this host (80758ec91de8): /proc/driver/nvidia/version does not exist\n",
      "2023-02-03 23:14:38.253832: I tensorflow/core/platform/cpu_feature_guard.cc:193] This TensorFlow binary is optimized with oneAPI Deep Neural Network Library (oneDNN) to use the following CPU instructions in performance-critical operations:  AVX2 FMA\n",
      "To enable them in other operations, rebuild TensorFlow with the appropriate compiler flags.\n",
      "WARNING:LogRuntime:BUILD MODEL - Runtime: 0:00:00.312858 (0.31 seconds)\n",
      "WARNING:LogRuntime:COMPILE MODEL - Runtime: 0:00:00.008276 (0.01 seconds)\n"
     ]
    },
    {
     "name": "stdout",
     "output_type": "stream",
     "text": [
      "Epoch 2/30\n",
      "50/50 [==============================] - ETA: 0s - loss: 0.4776 - jaccard: 0.2226 - dice: 0.3641"
     ]
    },
    {
     "name": "stderr",
     "output_type": "stream",
     "text": [
      "WARNING:absl:Found untraced functions such as _jit_compiled_convolution_op, _jit_compiled_convolution_op, _jit_compiled_convolution_op, _jit_compiled_convolution_op, _jit_compiled_convolution_op while saving (showing 5 of 19). These functions will not be directly callable after loading.\n"
     ]
    },
    {
     "name": "stdout",
     "output_type": "stream",
     "text": [
      "50/50 [==============================] - 133s 3s/step - loss: 0.4776 - jaccard: 0.2226 - dice: 0.3641 - val_loss: 0.4246 - val_jaccard: 0.1918 - val_dice: 0.3218\n",
      "Epoch 3/30\n",
      "50/50 [==============================] - ETA: 0s - loss: 0.4509 - jaccard: 0.2380 - dice: 0.3842"
     ]
    },
    {
     "name": "stderr",
     "output_type": "stream",
     "text": [
      "WARNING:absl:Found untraced functions such as _jit_compiled_convolution_op, _jit_compiled_convolution_op, _jit_compiled_convolution_op, _jit_compiled_convolution_op, _jit_compiled_convolution_op while saving (showing 5 of 19). These functions will not be directly callable after loading.\n"
     ]
    },
    {
     "name": "stdout",
     "output_type": "stream",
     "text": [
      "50/50 [==============================] - 134s 3s/step - loss: 0.4509 - jaccard: 0.2380 - dice: 0.3842 - val_loss: 0.4294 - val_jaccard: 0.2000 - val_dice: 0.3332\n",
      "Epoch 4/30\n",
      "50/50 [==============================] - ETA: 0s - loss: 0.4242 - jaccard: 0.2519 - dice: 0.4022"
     ]
    },
    {
     "name": "stderr",
     "output_type": "stream",
     "text": [
      "WARNING:absl:Found untraced functions such as _jit_compiled_convolution_op, _jit_compiled_convolution_op, _jit_compiled_convolution_op, _jit_compiled_convolution_op, _jit_compiled_convolution_op while saving (showing 5 of 19). These functions will not be directly callable after loading.\n"
     ]
    },
    {
     "name": "stdout",
     "output_type": "stream",
     "text": [
      "50/50 [==============================] - 142s 3s/step - loss: 0.4242 - jaccard: 0.2519 - dice: 0.4022 - val_loss: 0.4266 - val_jaccard: 0.2047 - val_dice: 0.3398\n",
      "Epoch 5/30\n",
      "50/50 [==============================] - ETA: 0s - loss: 0.3929 - jaccard: 0.2715 - dice: 0.4268"
     ]
    },
    {
     "name": "stderr",
     "output_type": "stream",
     "text": [
      "WARNING:absl:Found untraced functions such as _jit_compiled_convolution_op, _jit_compiled_convolution_op, _jit_compiled_convolution_op, _jit_compiled_convolution_op, _jit_compiled_convolution_op while saving (showing 5 of 19). These functions will not be directly callable after loading.\n"
     ]
    },
    {
     "name": "stdout",
     "output_type": "stream",
     "text": [
      "50/50 [==============================] - 150s 3s/step - loss: 0.3929 - jaccard: 0.2715 - dice: 0.4268 - val_loss: 0.4124 - val_jaccard: 0.2126 - val_dice: 0.3505\n",
      "Epoch 6/30\n",
      "50/50 [==============================] - ETA: 0s - loss: 0.3661 - jaccard: 0.2900 - dice: 0.4493"
     ]
    },
    {
     "name": "stderr",
     "output_type": "stream",
     "text": [
      "WARNING:absl:Found untraced functions such as _jit_compiled_convolution_op, _jit_compiled_convolution_op, _jit_compiled_convolution_op, _jit_compiled_convolution_op, _jit_compiled_convolution_op while saving (showing 5 of 19). These functions will not be directly callable after loading.\n"
     ]
    },
    {
     "name": "stdout",
     "output_type": "stream",
     "text": [
      "50/50 [==============================] - 152s 3s/step - loss: 0.3661 - jaccard: 0.2900 - dice: 0.4493 - val_loss: 0.3915 - val_jaccard: 0.2297 - val_dice: 0.3734\n",
      "Epoch 7/30\n",
      "24/50 [=============>................] - ETA: 1:17 - loss: 0.3493 - jaccard: 0.3003 - dice: 0.4616"
     ]
    }
   ],
   "source": [
    "uri = 'askdgashdjkash'\n",
    "config = f'''\n",
    "model:\n",
    "    input_width: 208\n",
    "    input_height: 208\n",
    "    input_channels: 3\n",
    "    classes: 1\n",
    "    filters: 16\n",
    "    layers: 7\n",
    "    # activation:\n",
    "    # batch_norm:\n",
    "    # output_activation:\n",
    "    # kernel_initializer:\n",
    "    # attention_gates:\n",
    "    # attention_activation_1:\n",
    "    # attention_activation_2:\n",
    "    # attention_kernel_size:\n",
    "    # attention_strides:\n",
    "    # attention_padding:\n",
    "    # attention_kernel_initializer:\n",
    "dataset:\n",
    "    source: /mnt/storage/projects/unet001/dset001/p-unet001_s-dset001_d-glom_v001\n",
    "    split_index: -1\n",
    "    load_limit: 1000\n",
    "optimizer:\n",
    "    name: sgd\n",
    "compile:\n",
    "    loss: jaccard_loss\n",
    "    metrics:\n",
    "        - jaccard\n",
    "        - dice\n",
    "callbacks:\n",
    "    project: unet001\n",
    "    root: /mnt/storage/projects\n",
    "fit:\n",
    "    batch_size: 16\n",
    "logger:\n",
    "    timezone: 'America/Los_Angeles'\n",
    "    slack_url: 'https://hooks.slack.com/services/{uri}'\n",
    "    slack_channel: dev\n",
    "    slack_methods: []\n",
    "'''\n",
    "# pipe = fimu.UNetPipeline \\\n",
    "#     .from_string(config) \\\n",
    "#     .load() \\\n",
    "#     .train_test_split() \\\n",
    "#     .unload() \\\n",
    "#     .build() \\\n",
    "#     .compile() \\\n",
    "#     .fit()\n",
    "\n",
    "pipe = fimu.UNetPipeline \\\n",
    "    .from_string(config) \\\n",
    "    .run()"
   ]
  },
  {
   "cell_type": "code",
   "execution_count": null,
   "id": "f7d579eb-cf4e-46b8-ade8-eab0af20429c",
   "metadata": {},
   "outputs": [],
   "source": []
  }
 ],
 "metadata": {
  "kernelspec": {
   "display_name": "Python 3 (ipykernel)",
   "language": "python",
   "name": "python3"
  },
  "language_info": {
   "codemirror_mode": {
    "name": "ipython",
    "version": 3
   },
   "file_extension": ".py",
   "mimetype": "text/x-python",
   "name": "python",
   "nbconvert_exporter": "python",
   "pygments_lexer": "ipython3",
   "version": "3.10.9"
  }
 },
 "nbformat": 4,
 "nbformat_minor": 5
}
