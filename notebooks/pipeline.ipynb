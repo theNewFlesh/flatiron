{
 "cells": [
  {
   "cell_type": "code",
   "execution_count": 21,
   "id": "0c5030c0-1b29-4c5b-9815-6e4250ac5448",
   "metadata": {
    "tags": []
   },
   "outputs": [
    {
     "name": "stdout",
     "output_type": "stream",
     "text": [
      "/home/ubuntu/flatiron/python\n"
     ]
    }
   ],
   "source": [
    "import os\n",
    "\n",
    "import schematics as scm\n",
    "import schematics.types as scmt\n",
    "\n",
    "import pandas as pd\n",
    "import numpy as np\n",
    "import tensorboard.notebook as tbnb\n",
    "import tensorflow as tf\n",
    "import tensorflow.keras as tfk\n",
    "import tensorflow.keras.layers as tfl\n",
    "import tensorflow.keras.preprocessing as tfpp\n",
    "import tensorflow.data as tfd\n",
    "\n",
    "%cd ~/flatiron/python\n",
    "import flatiron.core.tools as fict\n",
    "import flatiron.core.dataset as ficd\n",
    "import flatiron.core.logging as ficl\n",
    "import flatiron.models.unet as fimu\n",
    "import flatiron.core.pipeline as ficp\n",
    "\n",
    "tf.get_logger().setLevel('ERROR')"
   ]
  },
  {
   "cell_type": "code",
   "execution_count": 37,
   "id": "0db0036d-04d1-4532-b8ec-0dc542e0eb28",
   "metadata": {
    "tags": []
   },
   "outputs": [
    {
     "data": {
      "application/vnd.jupyter.widget-view+json": {
       "model_id": "f15391ac83674a3c9f98c6d41c59876f",
       "version_major": 2,
       "version_minor": 0
      },
      "text/plain": [
       "Loading Dataset Chunks:   0%|          | 0/10 [00:00<?, ?it/s]"
      ]
     },
     "metadata": {},
     "output_type": "display_data"
    },
    {
     "name": "stderr",
     "output_type": "stream",
     "text": [
      "WARNING:LogRuntime:LOAD DATASET - Runtime: 0:00:01.287663 (1.29 seconds)\n",
      "WARNING:LogRuntime:XY SPLIT - Runtime: 0:00:00.000043 (0 seconds)\n"
     ]
    }
   ],
   "source": [
    "with open('../resources/slack-url.txt') as f:\n",
    "    url = f.read().strip('\\n')\n",
    "config = f'''\n",
    "model:\n",
    "    input_width: 208\n",
    "    input_height: 208\n",
    "    input_channels: 3\n",
    "    classes: 1\n",
    "    filters: 64\n",
    "    layers: 9\n",
    "    activation: leaky_relu\n",
    "    batch_norm: true\n",
    "    output_activation: sigmoid\n",
    "    # kernel_initializer:\n",
    "    attention_gates: true\n",
    "    # attention_activation_1:\n",
    "    # attention_activation_2:\n",
    "    # attention_kernel_size:\n",
    "    # attention_strides:\n",
    "    # attention_padding:\n",
    "    # attention_kernel_initializer:\n",
    "dataset:\n",
    "    source: /mnt/storage/projects/unet001/dset001/p-unet001_s-dset001_d-glom_v001\n",
    "    split_index: -1\n",
    "    # load_limit: 1000\n",
    "optimizer:\n",
    "    name: sgd\n",
    "    learning_rate: 0.015\n",
    "    momentum: 0.99\n",
    "compile:\n",
    "    loss: jaccard_loss\n",
    "    metrics:\n",
    "        - jaccard\n",
    "        - dice\n",
    "callbacks:\n",
    "    project: unet001\n",
    "    root: /mnt/storage/projects\n",
    "fit:\n",
    "    batch_size: 32\n",
    "    validation_split: 0.1\n",
    "logger:\n",
    "    timezone: 'America/Los_Angeles'\n",
    "    slack_url: '{url}'\n",
    "    slack_channel: dev\n",
    "    slack_methods:\n",
    "        - fit\n",
    "'''\n",
    "pipe = fimu.UNetPipeline \\\n",
    "    .from_string(config) \\\n",
    "    .load() \\\n",
    "    .xy_split()\n",
    "\n",
    "# pipe = fimu.UNetPipeline \\\n",
    "#     .from_string(config) \\\n",
    "#     .load() \\\n",
    "#     .xy_split() \\\n",
    "#     .unload() \\\n",
    "#     .build() \\\n",
    "#     .compile() \\\n",
    "#     .fit()\n",
    "\n",
    "# pipe = fimu.UNetPipeline \\\n",
    "#     .from_string(config) \\\n",
    "#     .run()"
   ]
  },
  {
   "cell_type": "code",
   "execution_count": 36,
   "id": "1a0d3e6c-5d35-4c21-947b-2f195465cf8a",
   "metadata": {
    "tags": []
   },
   "outputs": [],
   "source": [
    "def preprocess(x, axis=-1, index=-1):\n",
    "    data = tfk.Sequential([\n",
    "        tfl.RandomFlip(seed=42),\n",
    "    ])(x)\n",
    "    return data\n",
    "\n",
    "dset = tfd.Dataset.from_tensor_slices([pipe.dataset.data])\n",
    "dset.batch(32).map(lambda x: preprocess(x))"
   ]
  },
  {
   "cell_type": "code",
   "execution_count": null,
   "id": "a1d483d8-ce18-4d7c-80da-763122986389",
   "metadata": {},
   "outputs": [],
   "source": []
  }
 ],
 "metadata": {
  "kernelspec": {
   "display_name": "Python 3 (ipykernel)",
   "language": "python",
   "name": "python3"
  },
  "language_info": {
   "codemirror_mode": {
    "name": "ipython",
    "version": 3
   },
   "file_extension": ".py",
   "mimetype": "text/x-python",
   "name": "python",
   "nbconvert_exporter": "python",
   "pygments_lexer": "ipython3",
   "version": "3.10.9"
  }
 },
 "nbformat": 4,
 "nbformat_minor": 5
}
