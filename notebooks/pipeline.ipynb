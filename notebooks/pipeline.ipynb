{
 "cells": [
  {
   "cell_type": "code",
   "execution_count": 1,
   "id": "0c5030c0-1b29-4c5b-9815-6e4250ac5448",
   "metadata": {
    "tags": []
   },
   "outputs": [
    {
     "name": "stderr",
     "output_type": "stream",
     "text": [
      "2025-02-17 21:02:38.179709: E external/local_xla/xla/stream_executor/cuda/cuda_fft.cc:477] Unable to register cuFFT factory: Attempting to register factory for plugin cuFFT when one has already been registered\n",
      "WARNING: All log messages before absl::InitializeLog() is called are written to STDERR\n",
      "E0000 00:00:1739826158.196702   18337 cuda_dnn.cc:8310] Unable to register cuDNN factory: Attempting to register factory for plugin cuDNN when one has already been registered\n",
      "E0000 00:00:1739826158.201841   18337 cuda_blas.cc:1418] Unable to register cuBLAS factory: Attempting to register factory for plugin cuBLAS when one has already been registered\n",
      "2025-02-17 21:02:38.219724: I tensorflow/core/platform/cpu_feature_guard.cc:210] This TensorFlow binary is optimized to use available CPU instructions in performance-critical operations.\n",
      "To enable the following instructions: AVX2 FMA, in other operations, rebuild TensorFlow with the appropriate compiler flags.\n"
     ]
    }
   ],
   "source": [
    "import os\n",
    "\n",
    "import pandas as pd\n",
    "import numpy as np\n",
    "import tensorboard.notebook as tbnb\n",
    "\n",
    "import flatiron.core.tools as fict\n",
    "import flatiron.core.dataset as ficd\n",
    "import flatiron.core.logging as ficl\n",
    "import flatiron.tf.models.unet as fimu\n",
    "from flatiron.core.pipeline import *"
   ]
  },
  {
   "cell_type": "code",
   "execution_count": null,
   "id": "9a64e34b-e62f-47ac-a6e2-92a5d35c8c87",
   "metadata": {},
   "outputs": [],
   "source": [
    "# CPU only\n",
    "os.environ['CUDA_VISIBLE_DEVICES'] = '-1'"
   ]
  },
  {
   "cell_type": "code",
   "execution_count": null,
   "id": "0db0036d-04d1-4532-b8ec-0dc542e0eb28",
   "metadata": {
    "tags": []
   },
   "outputs": [
    {
     "name": "stderr",
     "output_type": "stream",
     "text": [
      "2025-02-17 21:02:42.098725: E external/local_xla/xla/stream_executor/cuda/cuda_driver.cc:152] failed call to cuInit: INTERNAL: CUDA error: Failed call to cuInit: CUDA_ERROR_NO_DEVICE: no CUDA-capable device is detected\n",
      "2025-02-17 21:02:42.098782: I external/local_xla/xla/stream_executor/cuda/cuda_diagnostics.cc:137] retrieving CUDA diagnostic information for host: fae1a180f6f6\n",
      "2025-02-17 21:02:42.098797: I external/local_xla/xla/stream_executor/cuda/cuda_diagnostics.cc:144] hostname: fae1a180f6f6\n",
      "2025-02-17 21:02:42.098958: I external/local_xla/xla/stream_executor/cuda/cuda_diagnostics.cc:168] libcuda reported version is: 550.144.3\n",
      "2025-02-17 21:02:42.099000: I external/local_xla/xla/stream_executor/cuda/cuda_diagnostics.cc:172] kernel reported version is: 550.144.3\n",
      "2025-02-17 21:02:42.099014: I external/local_xla/xla/stream_executor/cuda/cuda_diagnostics.cc:259] kernel version seems to match DSO: 550.144.3\n",
      "WARNING:LogRuntime:BUILD MODEL - Runtime: 0:00:00.300442 (0.3 seconds)\n",
      "WARNING:LogRuntime:COMPILE MODEL - Runtime: 0:00:00.007879 (0.01 seconds)\n",
      "WARNING:LogRuntime:TRAIN TEST SPLIT - Runtime: 0:00:00.015081 (0.02 seconds)\n"
     ]
    },
    {
     "data": {
      "application/vnd.jupyter.widget-view+json": {
       "model_id": "9274dc119ad34eab964d4f047b6ef364",
       "version_major": 2,
       "version_minor": 0
      },
      "text/plain": [
       "May not total to 100% - Loading Dataset Files:   0%|          | 0/8 [00:00<?, ?it/s]"
      ]
     },
     "metadata": {},
     "output_type": "display_data"
    },
    {
     "data": {
      "application/vnd.jupyter.widget-view+json": {
       "model_id": "d505929e1f9949d4811b3152debf0dfc",
       "version_major": 2,
       "version_minor": 0
      },
      "text/plain": [
       "May not total to 100% - Loading Dataset Files:   0%|          | 0/2 [00:00<?, ?it/s]"
      ]
     },
     "metadata": {},
     "output_type": "display_data"
    },
    {
     "name": "stderr",
     "output_type": "stream",
     "text": [
      "WARNING:LogRuntime:LOAD DATASETS - Runtime: 0:00:01.618941 (1.62 seconds)\n"
     ]
    },
    {
     "name": "stdout",
     "output_type": "stream",
     "text": [
      "Epoch 2/30\n"
     ]
    },
    {
     "name": "stderr",
     "output_type": "stream",
     "text": [
      "/home/ubuntu/pdm/envs/pdm-kVbOHlCT-dev-3.10/lib/python3.10/site-packages/keras/src/models/functional.py:237: UserWarning: The structure of `inputs` doesn't match the expected structure.\n",
      "Expected: ['input']\n",
      "Received: inputs=Tensor(shape=(None, 208, 208, 3))\n",
      "  warnings.warn(msg)\n"
     ]
    },
    {
     "name": "stdout",
     "output_type": "stream",
     "text": [
      "\u001b[1m 5/63\u001b[0m \u001b[32m━\u001b[0m\u001b[37m━━━━━━━━━━━━━━━━━━━\u001b[0m \u001b[1m30:34\u001b[0m 32s/step - dice: 0.0000e+00 - jaccard: 0.0000e+00 - loss: 0.4995"
     ]
    }
   ],
   "source": [
    "uri = 'askdgashdjkash'\n",
    "config = f'''\n",
    "engine: tensorflow\n",
    "model:\n",
    "    input_width: 208\n",
    "    input_height: 208\n",
    "    input_channels: 3\n",
    "    classes: 1\n",
    "    filters: 16\n",
    "    layers: 7\n",
    "    # activation:\n",
    "    # batch_norm:\n",
    "    # output_activation:\n",
    "    # kernel_initializer:\n",
    "    # attention_gates:\n",
    "    # attention_activation_1:\n",
    "    # attention_activation_2:\n",
    "    # attention_kernel_size:\n",
    "    # attention_strides:\n",
    "    # attention_padding:\n",
    "    # attention_kernel_initializer:\n",
    "dataset:\n",
    "    source: /mnt/storage/projects/unet001/dset001/p-unet001_s-dset001_d-glom_v001\n",
    "    ext_regex: npy\n",
    "    labels: [3]\n",
    "    label_axis: -1\n",
    "    limit: 1000\n",
    "    test_size: 0.2\n",
    "    reshape: False\n",
    "optimizer:\n",
    "    name: sgd\n",
    "compile:\n",
    "    loss: jaccard_loss\n",
    "    metrics:\n",
    "        - jaccard\n",
    "        - dice\n",
    "callbacks:\n",
    "    project: unet001\n",
    "    root: /mnt/storage/projects\n",
    "train:\n",
    "    batch_size: 16\n",
    "logger:\n",
    "    timezone: 'America/Los_Angeles'\n",
    "    slack_url: 'https://hooks.slack.com/services/{uri}'\n",
    "    slack_channel: dev\n",
    "    slack_methods: []\n",
    "'''\n",
    "# pipe = fimu.UNetPipeline \\\n",
    "#     .from_string(config) \\\n",
    "#     .build() \\\n",
    "#     .compile() \\\n",
    "#     .train_test_split() \\\n",
    "#     .load() \\\n",
    "#     .train()\n",
    "\n",
    "pipe = fimu.UNetPipeline \\\n",
    "    .from_string(config) \\\n",
    "    .run()"
   ]
  },
  {
   "cell_type": "code",
   "execution_count": null,
   "id": "cb9896f2-e44b-4131-aa18-b4d932abcc9f",
   "metadata": {},
   "outputs": [],
   "source": []
  }
 ],
 "metadata": {
  "kernelspec": {
   "display_name": "Python 3 (ipykernel)",
   "language": "python",
   "name": "python3"
  },
  "language_info": {
   "codemirror_mode": {
    "name": "ipython",
    "version": 3
   },
   "file_extension": ".py",
   "mimetype": "text/x-python",
   "name": "python",
   "nbconvert_exporter": "python",
   "pygments_lexer": "ipython3",
   "version": "3.10.12"
  }
 },
 "nbformat": 4,
 "nbformat_minor": 5
}
