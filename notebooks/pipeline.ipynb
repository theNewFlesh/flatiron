{
 "cells": [
  {
   "cell_type": "code",
   "execution_count": 2,
   "id": "0c5030c0-1b29-4c5b-9815-6e4250ac5448",
   "metadata": {},
   "outputs": [
    {
     "name": "stdout",
     "output_type": "stream",
     "text": [
      "/home/ubuntu/flatiron/python\n"
     ]
    }
   ],
   "source": [
    "import os\n",
    "\n",
    "import schematics as scm\n",
    "import schematics.types as scmt\n",
    "\n",
    "import pandas as pd\n",
    "import numpy as np\n",
    "\n",
    "%cd ~/flatiron/python\n",
    "import flatiron.core.tools as fict\n",
    "import flatiron.core.logging as ficl\n",
    "import flatiron.models.unet as fimu\n",
    "from flatiron.core.pipeline import *"
   ]
  },
  {
   "cell_type": "code",
   "execution_count": 3,
   "id": "8e23045b-7f09-430e-917f-d2b340c58d10",
   "metadata": {},
   "outputs": [],
   "source": [
    "class FooConfig(scm.Model):\n",
    "    bar = scmt.StringType(required=True)\n",
    "\n",
    "class FooPipeline(PipelineBase):\n",
    "    @property\n",
    "    def model_config(self):\n",
    "        return FooConfig\n",
    "    \n",
    "    def build(self):\n",
    "        pass\n",
    "\n",
    "def create_fake_asset(root):\n",
    "    chunks = [\n",
    "        'data/chunk_f00.npy',\n",
    "        'data/chunk_f01.npy',\n",
    "    ]\n",
    "    os.makedirs(root, exist_ok=True)\n",
    "    os.makedirs(Path(root, 'data'), exist_ok=True)\n",
    "    data = pd.DataFrame()\n",
    "    data['filepath_relative'] = chunks\n",
    "    data['asset_path'] = root\n",
    "    csv_path = Path(root, 'info.csv').as_posix()\n",
    "    data.to_csv(csv_path, index=False)\n",
    "    shape = (100, 10, 10, 3)\n",
    "    arr = np.ones(shape, dtype=np.float16)\n",
    "    for chunk in chunks:\n",
    "        np.save(Path(root, chunk), arr)\n",
    "    return data"
   ]
  },
  {
   "cell_type": "code",
   "execution_count": 4,
   "id": "e18560fa-d219-43a4-824e-01c14a5b7627",
   "metadata": {},
   "outputs": [
    {
     "data": {
      "application/vnd.jupyter.widget-view+json": {
       "model_id": "a0a089285ca74724a5421bcbab304008",
       "version_major": 2,
       "version_minor": 0
      },
      "text/plain": [
       "May not total to 100% - Loading Dataset Chunks:   0%|          | 0/2 [00:00<?, ?it/s]"
      ]
     },
     "metadata": {},
     "output_type": "display_data"
    },
    {
     "name": "stderr",
     "output_type": "stream",
     "text": [
      "WARNING:LogRuntime:LOAD DATASET\n",
      "\n",
      "RUN TIME:\n",
      "```0.02 seconds (0:00:00.017952)```\n",
      "POST TIME:\n",
      "```2023-02-01T08:00:53.735750-08:00```\n",
      "CONFIG:\n",
      "```dataset:\n",
      "    load_limit: 100\n",
      "    load_shuffle: false\n",
      "    source: /tmp/ajshgdjhasd\n",
      "    split_axis: -1\n",
      "    split_index: 3\n",
      "    split_random_state: 42\n",
      "    split_shuffle: true\n",
      "    split_test_size: 0.2\n",
      "    split_train_size: null\n",
      "```\n",
      "   \n"
     ]
    }
   ],
   "source": [
    "root = '/tmp/ajshgdjhasd'\n",
    "d = create_fake_asset(root)\n",
    "\n",
    "\n",
    "config = f'''\n",
    "model:\n",
    "    bar: baz\n",
    "dataset:\n",
    "    source: {root}\n",
    "    load_limit: 100\n",
    "    split_index: 3\n",
    "optimizer: {{}}\n",
    "compile:\n",
    "    loss: jaccard_loss\n",
    "    metrics:\n",
    "        - jaccard\n",
    "        - dice\n",
    "callbacks:\n",
    "    project: test\n",
    "    root: {root}\n",
    "    timezone: 'America/Los_Angeles'\n",
    "fit:\n",
    "    batch_size: 32\n",
    "logger:\n",
    "    timezone: 'America/Los_Angeles'\n",
    "    slack_url: 'https://hooks.slack.com/services/{uri}'\n",
    "    slack_channel: dev\n",
    "'''\n",
    "\n",
    "p = FooPipeline \\\n",
    "    .from_string(config) \\\n",
    "    .load() \\\n",
    "    .train_test_split() \\\n",
    "    .unload()"
   ]
  },
  {
   "cell_type": "code",
   "execution_count": null,
   "id": "324369a2-4b90-45d2-be73-2d52fe013a5d",
   "metadata": {},
   "outputs": [],
   "source": []
  }
 ],
 "metadata": {
  "kernelspec": {
   "display_name": "Python 3 (ipykernel)",
   "language": "python",
   "name": "python3"
  },
  "language_info": {
   "codemirror_mode": {
    "name": "ipython",
    "version": 3
   },
   "file_extension": ".py",
   "mimetype": "text/x-python",
   "name": "python",
   "nbconvert_exporter": "python",
   "pygments_lexer": "ipython3",
   "version": "3.10.9"
  }
 },
 "nbformat": 4,
 "nbformat_minor": 5
}
