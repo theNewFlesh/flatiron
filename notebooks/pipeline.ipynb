{
 "cells": [
  {
   "cell_type": "code",
   "execution_count": 29,
   "id": "0c5030c0-1b29-4c5b-9815-6e4250ac5448",
   "metadata": {},
   "outputs": [
    {
     "name": "stdout",
     "output_type": "stream",
     "text": [
      "/home/ubuntu/flatiron/python\n"
     ]
    }
   ],
   "source": [
    "import os\n",
    "\n",
    "import schematics as scm\n",
    "import schematics.types as scmt\n",
    "\n",
    "import pandas as pd\n",
    "import numpy as np\n",
    "import tensorflow.keras.callbacks as tfkc\n",
    "import tensorflow.keras.optimizers as tfko\n",
    "import flatiron.core.tools as fict\n",
    "\n",
    "%cd ~/flatiron/python\n",
    "\n",
    "from flatiron.core.pipeline import *"
   ]
  },
  {
   "cell_type": "code",
   "execution_count": 2,
   "id": "8e23045b-7f09-430e-917f-d2b340c58d10",
   "metadata": {},
   "outputs": [],
   "source": [
    "class FooConfig(scm.Model):\n",
    "    bar = scmt.StringType(required=True)\n",
    "\n",
    "class FooPipeline(PipelineBase):\n",
    "    @property\n",
    "    def model_config(self):\n",
    "        return FooConfig\n",
    "    \n",
    "    def build(self):\n",
    "        pass\n",
    "\n",
    "def create_fake_asset(root):\n",
    "    chunks = [\n",
    "        'data/chunk_f00.npy',\n",
    "        'data/chunk_f01.npy',\n",
    "    ]\n",
    "    os.makedirs(root, exist_ok=True)\n",
    "    os.makedirs(Path(root, 'data'), exist_ok=True)\n",
    "    data = pd.DataFrame()\n",
    "    data['filepath_relative'] = chunks\n",
    "    data['asset_path'] = root\n",
    "    csv_path = Path(root, 'info.csv').as_posix()\n",
    "    data.to_csv(csv_path, index=False)\n",
    "    shape = (100, 10, 10, 3)\n",
    "    arr = np.ones(shape, dtype=np.float16)\n",
    "    for chunk in chunks:\n",
    "        np.save(Path(root, chunk), arr)\n",
    "    return data"
   ]
  },
  {
   "cell_type": "code",
   "execution_count": null,
   "id": "5be29e64-cc94-44e2-be4d-3a507a6fb007",
   "metadata": {},
   "outputs": [],
   "source": []
  },
  {
   "cell_type": "code",
   "execution_count": 3,
   "id": "e18560fa-d219-43a4-824e-01c14a5b7627",
   "metadata": {},
   "outputs": [
    {
     "data": {
      "application/vnd.jupyter.widget-view+json": {
       "model_id": "5fc870e3524c44a9b491abc0bc45d308",
       "version_major": 2,
       "version_minor": 0
      },
      "text/plain": [
       "Loading Dataset Chunks:   0%|          | 0/2 [00:00<?, ?it/s]"
      ]
     },
     "metadata": {},
     "output_type": "display_data"
    },
    {
     "data": {
      "text/plain": [
       "((160, 10, 10, 3), (40, 10, 10, 3))"
      ]
     },
     "execution_count": 3,
     "metadata": {},
     "output_type": "execute_result"
    }
   ],
   "source": [
    "root = '/tmp/foobar'\n",
    "d = create_fake_asset(root)\n",
    "config = dict(\n",
    "    model=dict(bar='baz'),\n",
    "    dataset=dict(\n",
    "        source=root,\n",
    "        # load_limit=100,\n",
    "        split_index=3,\n",
    "    )\n",
    ")\n",
    "p = FooPipeline(config) \\\n",
    "    .load() \\\n",
    "    .train_test_split() \\\n",
    "    .unload()\n",
    "\n",
    "p"
   ]
  },
  {
   "cell_type": "code",
   "execution_count": 21,
   "id": "68a9cb90-38f7-4d1b-9861-73ad342bff53",
   "metadata": {},
   "outputs": [
    {
     "data": {
      "text/plain": [
       "{'optimizer': {'learning_rate': 0.008, 'momentum': 0.99},\n",
       " 'compile_': {'loss': 'jaccard_loss',\n",
       "  'metrics': [],\n",
       "  'optimizer': <keras.optimizers.optimizer_experimental.sgd.SGD at 0x7f4309aadf90>},\n",
       " 'callback': {'save_best_only': True,\n",
       "  'metric': 'jaccard_coef',\n",
       "  'mode': 'auto',\n",
       "  'save_freq': 'epoch',\n",
       "  'update_freq': 'batch'},\n",
       " 'fit': {'epochs': 35,\n",
       "  'verbose': 'auto',\n",
       "  'shuffle': True,\n",
       "  'initial_epoch': 0,\n",
       "  'use_multiprocessing': True,\n",
       "  'callbacks': ['callbacks']}}"
      ]
     },
     "execution_count": 21,
     "metadata": {},
     "output_type": "execute_result"
    }
   ],
   "source": [
    "def get_params():\n",
    "    params = dict(\n",
    "        info=dict(\n",
    "            project='proj0121',\n",
    "            root='/mnt/storage/projects',\n",
    "            spec='dset001',\n",
    "            desc='bg-detection',\n",
    "            version=4,\n",
    "        ),\n",
    "        data=dict(\n",
    "            limit=15000,\n",
    "        ),\n",
    "        model=dict(\n",
    "            input_shape=(192, 192, 3),\n",
    "            num_classes=1,\n",
    "            activation='leaky_relu',\n",
    "            use_batch_norm=True,\n",
    "            upsample_mode='deconv',\n",
    "            dropout=0.0,\n",
    "            dropout_change_per_layer=0.0,\n",
    "            dropout_type='spatial',\n",
    "            use_dropout_on_upsampling=False,\n",
    "            use_attention=True,\n",
    "            filters=32,\n",
    "            num_layers=4,\n",
    "            output_activation='sigmoid',\n",
    "        ),\n",
    "        misc=dict(\n",
    "            optimizer_class=tfko.SGD,\n",
    "            batch_size=16,\n",
    "        ),\n",
    "        optimizer=dict(\n",
    "            learning_rate=0.008,\n",
    "            momentum=0.99,\n",
    "        ),\n",
    "        compile_=dict(\n",
    "            loss='jaccard_loss',\n",
    "            metrics=[],\n",
    "        ),\n",
    "        callback=dict(\n",
    "            save_best_only=True,\n",
    "            metric='jaccard_coef',\n",
    "            mode='auto',\n",
    "            save_freq='epoch',\n",
    "            update_freq='batch',\n",
    "        ),\n",
    "        fit=dict(\n",
    "            epochs=35,\n",
    "            verbose='auto',\n",
    "            shuffle=True,\n",
    "            initial_epoch=0,\n",
    "            use_multiprocessing=True,\n",
    "        ),\n",
    "        datagen=dict(\n",
    "            horizontal_flip=True,\n",
    "            vertical_flip=True,\n",
    "            fill_mode='constant',\n",
    "        )\n",
    "    )\n",
    "\n",
    "    params['compile_']['optimizer'] = params['misc']['optimizer_class'](**params['optimizer'])\n",
    "    root = params['info']['root']\n",
    "    proj = params['info']['project']\n",
    "    cb = params['callback']\n",
    "    # cbs, log_dir = fict.get_callbacks(root, proj, cb)\n",
    "    params['misc']['log_dir'] = 'log_dir'\n",
    "    params['fit']['callbacks'] = ['callbacks']\n",
    "\n",
    "    return params\n",
    "\n",
    "def patch_params(params, x_train, x_test, y_train, y_test):\n",
    "    assert params['model']['input_shape'] == x_train[0].shape\n",
    "    params['fit']['steps_per_epoch'] = np.ceil(x_train.shape[0] / params['misc']['batch_size'])\n",
    "    params['fit']['validation_data'] = (x_test, y_test)\n",
    "    return params\n",
    "\n",
    "p = get_params()\n",
    "del p['info']\n",
    "del p['data']\n",
    "del p['model']\n",
    "del p['misc']\n",
    "del p['datagen']\n",
    "p['compile_']\n",
    "p"
   ]
  },
  {
   "cell_type": "code",
   "execution_count": null,
   "id": "09eeddee-2117-43ce-82b1-c2be4cf7158f",
   "metadata": {},
   "outputs": [],
   "source": []
  }
 ],
 "metadata": {
  "kernelspec": {
   "display_name": "Python 3 (ipykernel)",
   "language": "python",
   "name": "python3"
  },
  "language_info": {
   "codemirror_mode": {
    "name": "ipython",
    "version": 3
   },
   "file_extension": ".py",
   "mimetype": "text/x-python",
   "name": "python",
   "nbconvert_exporter": "python",
   "pygments_lexer": "ipython3",
   "version": "3.10.9"
  }
 },
 "nbformat": 4,
 "nbformat_minor": 5
}
