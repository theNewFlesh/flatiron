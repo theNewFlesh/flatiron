{
 "cells": [
  {
   "cell_type": "code",
   "execution_count": 1,
   "id": "6249c73c-370e-41b1-95b4-9f809085798a",
   "metadata": {},
   "outputs": [
    {
     "name": "stderr",
     "output_type": "stream",
     "text": [
      "2023-01-30 23:30:02.203345: I tensorflow/core/platform/cpu_feature_guard.cc:193] This TensorFlow binary is optimized with oneAPI Deep Neural Network Library (oneDNN) to use the following CPU instructions in performance-critical operations:  AVX2 FMA\n",
      "To enable them in other operations, rebuild TensorFlow with the appropriate compiler flags.\n"
     ]
    },
    {
     "name": "stdout",
     "output_type": "stream",
     "text": [
      "/home/ubuntu/flatiron/python\n"
     ]
    }
   ],
   "source": [
    "import numpy as np\n",
    "import tensorflow as tf\n",
    "import tensorflow.keras.layers as tfl\n",
    "import tensorflow.keras.models as tfm\n",
    "import tensorflow.keras.optimizers as tfo\n",
    "import tensorflow.keras.preprocessing.image as tfpp\n",
    "\n",
    "from keras.engine.keras_tensor import KerasTensor\n",
    "\n",
    "%cd /home/ubuntu/flatiron/python\n",
    "import flatiron.core.tools as fict\n",
    "import flatiron.core.unet as ficu"
   ]
  },
  {
   "cell_type": "code",
   "execution_count": 2,
   "id": "1df2e4c7-4d86-423e-8379-75b70cfb5c1d",
   "metadata": {},
   "outputs": [
    {
     "name": "stderr",
     "output_type": "stream",
     "text": [
      "2023-01-30 23:30:06.013267: E tensorflow/compiler/xla/stream_executor/cuda/cuda_driver.cc:267] failed call to cuInit: UNKNOWN ERROR (34)\n",
      "2023-01-30 23:30:06.013351: I tensorflow/compiler/xla/stream_executor/cuda/cuda_diagnostics.cc:156] kernel driver does not appear to be running on this host (80758ec91de8): /proc/driver/nvidia/version does not exist\n",
      "2023-01-30 23:30:06.013661: I tensorflow/core/platform/cpu_feature_guard.cc:193] This TensorFlow binary is optimized with oneAPI Deep Neural Network Library (oneDNN) to use the following CPU instructions in performance-critical operations:  AVX2 FMA\n",
      "To enable them in other operations, rebuild TensorFlow with the appropriate compiler flags.\n"
     ]
    },
    {
     "name": "stdout",
     "output_type": "stream",
     "text": [
      "Model: \"model\"\n",
      "__________________________________________________________________________________________________________________________________________________________________________\n",
      " Layer (type)                                           Output Shape                         Param #             Connected to                                             \n",
      "==========================================================================================================================================================================\n",
      " input (InputLayer)                                     [(None, 192, 192, 3)]                0                   []                                                       \n",
      "                                                                                                                                                                          \n",
      " encode-block____00-0 (Conv2D)                          (None, 192, 192, 16)                 432                 ['input[0][0]']                                          \n",
      "                                                                                                                                                                          \n",
      " encode-block____00-1 (BatchNormalization)              (None, 192, 192, 16)                 64                  ['encode-block____00-0[0][0]']                           \n",
      "                                                                                                                                                                          \n",
      " encode-block____00-2 (Conv2D)                          (None, 192, 192, 16)                 2304                ['encode-block____00-1[0][0]']                           \n",
      "                                                                                                                                                                          \n",
      " encode-block____00-3 (BatchNormalization)              (None, 192, 192, 16)                 64                  ['encode-block____00-2[0][0]']                           \n",
      "                                                                                                                                                                          \n",
      " downsample______00 (MaxPooling2D)                      (None, 96, 96, 16)                   0                   ['encode-block____00-3[0][0]']                           \n",
      "                                                                                                                                                                          \n",
      " encode-block____01-0 (Conv2D)                          (None, 96, 96, 32)                   4608                ['downsample______00[0][0]']                             \n",
      "                                                                                                                                                                          \n",
      " encode-block____01-1 (BatchNormalization)              (None, 96, 96, 32)                   128                 ['encode-block____01-0[0][0]']                           \n",
      "                                                                                                                                                                          \n",
      " encode-block____01-2 (Conv2D)                          (None, 96, 96, 32)                   9216                ['encode-block____01-1[0][0]']                           \n",
      "                                                                                                                                                                          \n",
      " encode-block____01-3 (BatchNormalization)              (None, 96, 96, 32)                   128                 ['encode-block____01-2[0][0]']                           \n",
      "                                                                                                                                                                          \n",
      " downsample______01 (MaxPooling2D)                      (None, 48, 48, 32)                   0                   ['encode-block____01-3[0][0]']                           \n",
      "                                                                                                                                                                          \n",
      " middle-block____00-0 (Conv2D)                          (None, 48, 48, 64)                   18432               ['downsample______01[0][0]']                             \n",
      "                                                                                                                                                                          \n",
      " middle-block____00-1 (BatchNormalization)              (None, 48, 48, 64)                   256                 ['middle-block____00-0[0][0]']                           \n",
      "                                                                                                                                                                          \n",
      " middle-block____00-2 (Conv2D)                          (None, 48, 48, 64)                   36864               ['middle-block____00-1[0][0]']                           \n",
      "                                                                                                                                                                          \n",
      " middle-block____00-3 (BatchNormalization)              (None, 48, 48, 64)                   256                 ['middle-block____00-2[0][0]']                           \n",
      "                                                                                                                                                                          \n",
      " upsample________00 (Conv2DTranspose)                   (None, 96, 96, 32)                   8224                ['middle-block____00-3[0][0]']                           \n",
      "                                                                                                                                                                          \n",
      " attention-gate__00-0 (Conv2D)                          (None, 96, 96, 32)                   1056                ['encode-block____01-3[0][0]']                           \n",
      "                                                                                                                                                                          \n",
      " attention-gate__00-1 (Conv2D)                          (None, 96, 96, 32)                   1056                ['upsample________00[0][0]']                             \n",
      "                                                                                                                                                                          \n",
      " attention-gate__00-2 (Add)                             (None, 96, 96, 32)                   0                   ['attention-gate__00-0[0][0]',                           \n",
      "                                                                                                                  'attention-gate__00-1[0][0]']                           \n",
      "                                                                                                                                                                          \n",
      " attention-gate__00-3 (Activation)                      (None, 96, 96, 32)                   0                   ['attention-gate__00-2[0][0]']                           \n",
      "                                                                                                                                                                          \n",
      " attention-gate__00-4 (Conv2D)                          (None, 96, 96, 1)                    33                  ['attention-gate__00-3[0][0]']                           \n",
      "                                                                                                                                                                          \n",
      " attention-gate__00-5 (Activation)                      (None, 96, 96, 1)                    0                   ['attention-gate__00-4[0][0]']                           \n",
      "                                                                                                                                                                          \n",
      " attention-gate__00-6 (Multiply)                        (None, 96, 96, 32)                   0                   ['encode-block____01-3[0][0]',                           \n",
      "                                                                                                                  'attention-gate__00-5[0][0]']                           \n",
      "                                                                                                                                                                          \n",
      " attention-gate__00-7 (Concatenate)                     (None, 96, 96, 64)                   0                   ['attention-gate__00-6[0][0]',                           \n",
      "                                                                                                                  'upsample________00[0][0]']                             \n",
      "                                                                                                                                                                          \n",
      " decode-block____00-0 (Conv2D)                          (None, 96, 96, 32)                   18432               ['attention-gate__00-7[0][0]']                           \n",
      "                                                                                                                                                                          \n",
      " decode-block____00-1 (BatchNormalization)              (None, 96, 96, 32)                   128                 ['decode-block____00-0[0][0]']                           \n",
      "                                                                                                                                                                          \n",
      " decode-block____00-2 (Conv2D)                          (None, 96, 96, 32)                   9216                ['decode-block____00-1[0][0]']                           \n",
      "                                                                                                                                                                          \n",
      " decode-block____00-3 (BatchNormalization)              (None, 96, 96, 32)                   128                 ['decode-block____00-2[0][0]']                           \n",
      "                                                                                                                                                                          \n",
      " upsample________01 (Conv2DTranspose)                   (None, 192, 192, 16)                 2064                ['decode-block____00-3[0][0]']                           \n",
      "                                                                                                                                                                          \n",
      " attention-gate__01-0 (Conv2D)                          (None, 192, 192, 16)                 272                 ['encode-block____00-3[0][0]']                           \n",
      "                                                                                                                                                                          \n",
      " attention-gate__01-1 (Conv2D)                          (None, 192, 192, 16)                 272                 ['upsample________01[0][0]']                             \n",
      "                                                                                                                                                                          \n",
      " attention-gate__01-2 (Add)                             (None, 192, 192, 16)                 0                   ['attention-gate__01-0[0][0]',                           \n",
      "                                                                                                                  'attention-gate__01-1[0][0]']                           \n",
      "                                                                                                                                                                          \n",
      " attention-gate__01-3 (Activation)                      (None, 192, 192, 16)                 0                   ['attention-gate__01-2[0][0]']                           \n",
      "                                                                                                                                                                          \n",
      " attention-gate__01-4 (Conv2D)                          (None, 192, 192, 1)                  17                  ['attention-gate__01-3[0][0]']                           \n",
      "                                                                                                                                                                          \n",
      " attention-gate__01-5 (Activation)                      (None, 192, 192, 1)                  0                   ['attention-gate__01-4[0][0]']                           \n",
      "                                                                                                                                                                          \n",
      " attention-gate__01-6 (Multiply)                        (None, 192, 192, 16)                 0                   ['encode-block____00-3[0][0]',                           \n",
      "                                                                                                                  'attention-gate__01-5[0][0]']                           \n",
      "                                                                                                                                                                          \n",
      " attention-gate__01-7 (Concatenate)                     (None, 192, 192, 32)                 0                   ['attention-gate__01-6[0][0]',                           \n",
      "                                                                                                                  'upsample________01[0][0]']                             \n",
      "                                                                                                                                                                          \n",
      " decode-block____01-0 (Conv2D)                          (None, 192, 192, 16)                 4608                ['attention-gate__01-7[0][0]']                           \n",
      "                                                                                                                                                                          \n",
      " decode-block____01-1 (BatchNormalization)              (None, 192, 192, 16)                 64                  ['decode-block____01-0[0][0]']                           \n",
      "                                                                                                                                                                          \n",
      " decode-block____01-2 (Conv2D)                          (None, 192, 192, 16)                 2304                ['decode-block____01-1[0][0]']                           \n",
      "                                                                                                                                                                          \n",
      " decode-block____01-3 (BatchNormalization)              (None, 192, 192, 16)                 64                  ['decode-block____01-2[0][0]']                           \n",
      "                                                                                                                                                                          \n",
      " output (Conv2D)                                        (None, 192, 192, 1)                  17                  ['decode-block____01-3[0][0]']                           \n",
      "                                                                                                                                                                          \n",
      "==========================================================================================================================================================================\n",
      "Total params: 120,707\n",
      "Trainable params: 120,067\n",
      "Non-trainable params: 640\n",
      "__________________________________________________________________________________________________________________________________________________________________________\n"
     ]
    }
   ],
   "source": [
    "x = ficu.get_unet_model(\n",
    "    input_width=192,\n",
    "    input_height=192,\n",
    "    input_channels=3,\n",
    "    layers=5,\n",
    "    attention_gates=True,\n",
    ")\n",
    "x.summary(line_length=170)"
   ]
  },
  {
   "cell_type": "code",
   "execution_count": null,
   "id": "ea940ff0-2075-4f7b-a6ea-acc4616dec8d",
   "metadata": {},
   "outputs": [],
   "source": []
  }
 ],
 "metadata": {
  "kernelspec": {
   "display_name": "Python 3 (ipykernel)",
   "language": "python",
   "name": "python3"
  },
  "language_info": {
   "codemirror_mode": {
    "name": "ipython",
    "version": 3
   },
   "file_extension": ".py",
   "mimetype": "text/x-python",
   "name": "python",
   "nbconvert_exporter": "python",
   "pygments_lexer": "ipython3",
   "version": "3.10.9"
  }
 },
 "nbformat": 4,
 "nbformat_minor": 5
}
