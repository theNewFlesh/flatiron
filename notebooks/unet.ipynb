{
 "cells": [
  {
   "cell_type": "code",
   "execution_count": 1,
   "id": "6249c73c-370e-41b1-95b4-9f809085798a",
   "metadata": {},
   "outputs": [
    {
     "name": "stderr",
     "output_type": "stream",
     "text": [
      "2023-01-28 10:34:30.926820: I tensorflow/core/platform/cpu_feature_guard.cc:193] This TensorFlow binary is optimized with oneAPI Deep Neural Network Library (oneDNN) to use the following CPU instructions in performance-critical operations:  AVX2 FMA\n",
      "To enable them in other operations, rebuild TensorFlow with the appropriate compiler flags.\n"
     ]
    },
    {
     "name": "stdout",
     "output_type": "stream",
     "text": [
      "/home/ubuntu/flatiron/python\n"
     ]
    }
   ],
   "source": [
    "import numpy as np\n",
    "import tensorflow as tf\n",
    "import tensorflow.keras.layers as tfl\n",
    "import tensorflow.keras.models as tfm\n",
    "import tensorflow.keras.optimizers as tfo\n",
    "import tensorflow.keras.preprocessing.image as tfpp\n",
    "\n",
    "from keras.engine.keras_tensor import KerasTensor\n",
    "\n",
    "%cd /home/ubuntu/flatiron/python\n",
    "import flatiron.core.tools as fict\n",
    "import flatiron.core.unet as ficu"
   ]
  },
  {
   "cell_type": "code",
   "execution_count": 3,
   "id": "1df2e4c7-4d86-423e-8379-75b70cfb5c1d",
   "metadata": {},
   "outputs": [
    {
     "name": "stderr",
     "output_type": "stream",
     "text": [
      "2023-01-28 02:53:48.680632: E tensorflow/compiler/xla/stream_executor/cuda/cuda_driver.cc:267] failed call to cuInit: UNKNOWN ERROR (34)\n",
      "2023-01-28 02:53:48.680752: I tensorflow/compiler/xla/stream_executor/cuda/cuda_diagnostics.cc:156] kernel driver does not appear to be running on this host (72a92967f59b): /proc/driver/nvidia/version does not exist\n",
      "2023-01-28 02:53:48.681062: I tensorflow/core/platform/cpu_feature_guard.cc:193] This TensorFlow binary is optimized with oneAPI Deep Neural Network Library (oneDNN) to use the following CPU instructions in performance-critical operations:  AVX2 FMA\n",
      "To enable them in other operations, rebuild TensorFlow with the appropriate compiler flags.\n"
     ]
    },
    {
     "name": "stdout",
     "output_type": "stream",
     "text": [
      "Model: \"model\"\n",
      "__________________________________________________________________________________________________________________________________________________________________________\n",
      " Layer (type)                                           Output Shape                         Param #             Connected to                                             \n",
      "==========================================================================================================================================================================\n",
      " input (InputLayer)                                     [(None, 192, 192, 3)]                0                   []                                                       \n",
      "                                                                                                                                                                          \n",
      " encode-block_00-0 (Conv2D)                             (None, 192, 192, 16)                 432                 ['input[0][0]']                                          \n",
      "                                                                                                                                                                          \n",
      " encode-block_00-1 (BatchNormalization)                 (None, 192, 192, 16)                 64                  ['encode-block_00-0[0][0]']                              \n",
      "                                                                                                                                                                          \n",
      " encode-block_00-2 (Conv2D)                             (None, 192, 192, 16)                 2304                ['encode-block_00-1[0][0]']                              \n",
      "                                                                                                                                                                          \n",
      " encode-block_00-3 (BatchNormalization)                 (None, 192, 192, 16)                 64                  ['encode-block_00-2[0][0]']                              \n",
      "                                                                                                                                                                          \n",
      " downsample_00 (MaxPooling2D)                           (None, 96, 96, 16)                   0                   ['encode-block_00-3[0][0]']                              \n",
      "                                                                                                                                                                          \n",
      " encode-block_01-0 (Conv2D)                             (None, 96, 96, 32)                   4608                ['downsample_00[0][0]']                                  \n",
      "                                                                                                                                                                          \n",
      " encode-block_01-1 (BatchNormalization)                 (None, 96, 96, 32)                   128                 ['encode-block_01-0[0][0]']                              \n",
      "                                                                                                                                                                          \n",
      " encode-block_01-2 (Conv2D)                             (None, 96, 96, 32)                   9216                ['encode-block_01-1[0][0]']                              \n",
      "                                                                                                                                                                          \n",
      " encode-block_01-3 (BatchNormalization)                 (None, 96, 96, 32)                   128                 ['encode-block_01-2[0][0]']                              \n",
      "                                                                                                                                                                          \n",
      " downsample_01 (MaxPooling2D)                           (None, 48, 48, 32)                   0                   ['encode-block_01-3[0][0]']                              \n",
      "                                                                                                                                                                          \n",
      " middle-block_00-0 (Conv2D)                             (None, 48, 48, 64)                   18432               ['downsample_01[0][0]']                                  \n",
      "                                                                                                                                                                          \n",
      " middle-block_00-1 (BatchNormalization)                 (None, 48, 48, 64)                   256                 ['middle-block_00-0[0][0]']                              \n",
      "                                                                                                                                                                          \n",
      " middle-block_00-2 (Conv2D)                             (None, 48, 48, 64)                   36864               ['middle-block_00-1[0][0]']                              \n",
      "                                                                                                                                                                          \n",
      " middle-block_00-3 (BatchNormalization)                 (None, 48, 48, 64)                   256                 ['middle-block_00-2[0][0]']                              \n",
      "                                                                                                                                                                          \n",
      " upsample_00 (Conv2DTranspose)                          (None, 96, 96, 32)                   8224                ['middle-block_00-3[0][0]']                              \n",
      "                                                                                                                                                                          \n",
      " attention-gate_00-0 (Conv2D)                           (None, 96, 96, 32)                   1056                ['encode-block_01-3[0][0]']                              \n",
      "                                                                                                                                                                          \n",
      " attention-gate_00-1 (Conv2D)                           (None, 96, 96, 32)                   1056                ['upsample_00[0][0]']                                    \n",
      "                                                                                                                                                                          \n",
      " attention-gate_00-2 (Add)                              (None, 96, 96, 32)                   0                   ['attention-gate_00-0[0][0]',                            \n",
      "                                                                                                                  'attention-gate_00-1[0][0]']                            \n",
      "                                                                                                                                                                          \n",
      " attention-gate_00-3 (Activation)                       (None, 96, 96, 32)                   0                   ['attention-gate_00-2[0][0]']                            \n",
      "                                                                                                                                                                          \n",
      " attention-gate_00-4 (Conv2D)                           (None, 96, 96, 1)                    33                  ['attention-gate_00-3[0][0]']                            \n",
      "                                                                                                                                                                          \n",
      " attention-gate_00-5 (Activation)                       (None, 96, 96, 1)                    0                   ['attention-gate_00-4[0][0]']                            \n",
      "                                                                                                                                                                          \n",
      " attention-gate_00-6 (Multiply)                         (None, 96, 96, 32)                   0                   ['encode-block_01-3[0][0]',                              \n",
      "                                                                                                                  'attention-gate_00-5[0][0]']                            \n",
      "                                                                                                                                                                          \n",
      " attention-gate_00-7 (Concatenate)                      (None, 96, 96, 64)                   0                   ['attention-gate_00-6[0][0]',                            \n",
      "                                                                                                                  'upsample_00[0][0]']                                    \n",
      "                                                                                                                                                                          \n",
      " decode-block_00-0 (Conv2D)                             (None, 96, 96, 32)                   18432               ['attention-gate_00-7[0][0]']                            \n",
      "                                                                                                                                                                          \n",
      " decode-block_00-1 (BatchNormalization)                 (None, 96, 96, 32)                   128                 ['decode-block_00-0[0][0]']                              \n",
      "                                                                                                                                                                          \n",
      " decode-block_00-2 (Conv2D)                             (None, 96, 96, 32)                   9216                ['decode-block_00-1[0][0]']                              \n",
      "                                                                                                                                                                          \n",
      " decode-block_00-3 (BatchNormalization)                 (None, 96, 96, 32)                   128                 ['decode-block_00-2[0][0]']                              \n",
      "                                                                                                                                                                          \n",
      " upsample_01 (Conv2DTranspose)                          (None, 192, 192, 16)                 2064                ['decode-block_00-3[0][0]']                              \n",
      "                                                                                                                                                                          \n",
      " attention-gate_01-0 (Conv2D)                           (None, 192, 192, 16)                 272                 ['encode-block_00-3[0][0]']                              \n",
      "                                                                                                                                                                          \n",
      " attention-gate_01-1 (Conv2D)                           (None, 192, 192, 16)                 272                 ['upsample_01[0][0]']                                    \n",
      "                                                                                                                                                                          \n",
      " attention-gate_01-2 (Add)                              (None, 192, 192, 16)                 0                   ['attention-gate_01-0[0][0]',                            \n",
      "                                                                                                                  'attention-gate_01-1[0][0]']                            \n",
      "                                                                                                                                                                          \n",
      " attention-gate_01-3 (Activation)                       (None, 192, 192, 16)                 0                   ['attention-gate_01-2[0][0]']                            \n",
      "                                                                                                                                                                          \n",
      " attention-gate_01-4 (Conv2D)                           (None, 192, 192, 1)                  17                  ['attention-gate_01-3[0][0]']                            \n",
      "                                                                                                                                                                          \n",
      " attention-gate_01-5 (Activation)                       (None, 192, 192, 1)                  0                   ['attention-gate_01-4[0][0]']                            \n",
      "                                                                                                                                                                          \n",
      " attention-gate_01-6 (Multiply)                         (None, 192, 192, 16)                 0                   ['encode-block_00-3[0][0]',                              \n",
      "                                                                                                                  'attention-gate_01-5[0][0]']                            \n",
      "                                                                                                                                                                          \n",
      " attention-gate_01-7 (Concatenate)                      (None, 192, 192, 32)                 0                   ['attention-gate_01-6[0][0]',                            \n",
      "                                                                                                                  'upsample_01[0][0]']                                    \n",
      "                                                                                                                                                                          \n",
      " decode-block_01-0 (Conv2D)                             (None, 192, 192, 16)                 4608                ['attention-gate_01-7[0][0]']                            \n",
      "                                                                                                                                                                          \n",
      " decode-block_01-1 (BatchNormalization)                 (None, 192, 192, 16)                 64                  ['decode-block_01-0[0][0]']                              \n",
      "                                                                                                                                                                          \n",
      " decode-block_01-2 (Conv2D)                             (None, 192, 192, 16)                 2304                ['decode-block_01-1[0][0]']                              \n",
      "                                                                                                                                                                          \n",
      " decode-block_01-3 (BatchNormalization)                 (None, 192, 192, 16)                 64                  ['decode-block_01-2[0][0]']                              \n",
      "                                                                                                                                                                          \n",
      " output (Conv2D)                                        (None, 192, 192, 1)                  17                  ['decode-block_01-3[0][0]']                              \n",
      "                                                                                                                                                                          \n",
      "==========================================================================================================================================================================\n",
      "Total params: 120,707\n",
      "Trainable params: 120,067\n",
      "Non-trainable params: 640\n",
      "__________________________________________________________________________________________________________________________________________________________________________\n"
     ]
    }
   ],
   "source": [
    "shape = (192, 192, 3)\n",
    "x = ficu.get_unet_model(shape, layers=5, attention_gates=True)\n",
    "x.summary(line_length=170)"
   ]
  },
  {
   "cell_type": "code",
   "execution_count": null,
   "id": "ea940ff0-2075-4f7b-a6ea-acc4616dec8d",
   "metadata": {},
   "outputs": [],
   "source": []
  }
 ],
 "metadata": {
  "kernelspec": {
   "display_name": "Python 3 (ipykernel)",
   "language": "python",
   "name": "python3"
  },
  "language_info": {
   "codemirror_mode": {
    "name": "ipython",
    "version": 3
   },
   "file_extension": ".py",
   "mimetype": "text/x-python",
   "name": "python",
   "nbconvert_exporter": "python",
   "pygments_lexer": "ipython3",
   "version": "3.10.9"
  }
 },
 "nbformat": 4,
 "nbformat_minor": 5
}
