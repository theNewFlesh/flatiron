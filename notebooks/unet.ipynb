{
 "cells": [
  {
   "cell_type": "code",
   "execution_count": 1,
   "id": "6249c73c-370e-41b1-95b4-9f809085798a",
   "metadata": {},
   "outputs": [
    {
     "name": "stderr",
     "output_type": "stream",
     "text": [
      "2023-01-31 02:56:44.245330: I tensorflow/core/platform/cpu_feature_guard.cc:193] This TensorFlow binary is optimized with oneAPI Deep Neural Network Library (oneDNN) to use the following CPU instructions in performance-critical operations:  AVX2 FMA\n",
      "To enable them in other operations, rebuild TensorFlow with the appropriate compiler flags.\n"
     ]
    },
    {
     "name": "stdout",
     "output_type": "stream",
     "text": [
      "/home/ubuntu/flatiron/python\n"
     ]
    }
   ],
   "source": [
    "import numpy as np\n",
    "import tensorflow as tf\n",
    "import tensorflow.keras.layers as tfl\n",
    "import tensorflow.keras.models as tfm\n",
    "import tensorflow.keras.optimizers as tfo\n",
    "import tensorflow.keras.preprocessing.image as tfpp\n",
    "\n",
    "from keras.engine.keras_tensor import KerasTensor\n",
    "\n",
    "%cd /home/ubuntu/flatiron/python\n",
    "import flatiron.core.tools as fict\n",
    "import flatiron.models.unet as fimu"
   ]
  },
  {
   "cell_type": "code",
   "execution_count": 10,
   "id": "389af8fb-0bc2-4cc9-9d06-7d49fd246fe9",
   "metadata": {},
   "outputs": [
    {
     "name": "stdout",
     "output_type": "stream",
     "text": [
      "Model: \"model_3\"\n",
      "____________________________________________________________________________________________________\n",
      " Layer (type)                    Output Shape          Param #     Connected to                     \n",
      "====================================================================================================\n",
      " input (InputLayer)              [(None, 192, 192, 3)  0           []                               \n",
      "                                 ]                                                                  \n",
      "                                                                                                    \n",
      " encode-block____00-0 (Conv2D)   (None, 192, 192, 16)  432         ['input[0][0]']                  \n",
      "                                                                                                    \n",
      " encode-block____00-1 (BatchNorm  (None, 192, 192, 16)  64         ['encode-block____00-0[0][0]']   \n",
      " alization)                                                                                         \n",
      "                                                                                                    \n",
      " encode-block____00-2 (Conv2D)   (None, 192, 192, 16)  2304        ['encode-block____00-1[0][0]']   \n",
      "                                                                                                    \n",
      " encode-block____00-3 (BatchNorm  (None, 192, 192, 16)  64         ['encode-block____00-2[0][0]']   \n",
      " alization)                                                                                         \n",
      "                                                                                                    \n",
      " downsample______00 (MaxPooling2  (None, 96, 96, 16)   0           ['encode-block____00-3[0][0]']   \n",
      " D)                                                                                                 \n",
      "                                                                                                    \n",
      " encode-block____01-0 (Conv2D)   (None, 96, 96, 32)    4608        ['downsample______00[0][0]']     \n",
      "                                                                                                    \n",
      " encode-block____01-1 (BatchNorm  (None, 96, 96, 32)   128         ['encode-block____01-0[0][0]']   \n",
      " alization)                                                                                         \n",
      "                                                                                                    \n",
      " encode-block____01-2 (Conv2D)   (None, 96, 96, 32)    9216        ['encode-block____01-1[0][0]']   \n",
      "                                                                                                    \n",
      " encode-block____01-3 (BatchNorm  (None, 96, 96, 32)   128         ['encode-block____01-2[0][0]']   \n",
      " alization)                                                                                         \n",
      "                                                                                                    \n",
      " downsample______01 (MaxPooling2  (None, 48, 48, 32)   0           ['encode-block____01-3[0][0]']   \n",
      " D)                                                                                                 \n",
      "                                                                                                    \n",
      " middle-block____00-0 (Conv2D)   (None, 48, 48, 64)    18432       ['downsample______01[0][0]']     \n",
      "                                                                                                    \n",
      " middle-block____00-1 (BatchNorm  (None, 48, 48, 64)   256         ['middle-block____00-0[0][0]']   \n",
      " alization)                                                                                         \n",
      "                                                                                                    \n",
      " middle-block____00-2 (Conv2D)   (None, 48, 48, 64)    36864       ['middle-block____00-1[0][0]']   \n",
      "                                                                                                    \n",
      " middle-block____00-3 (BatchNorm  (None, 48, 48, 64)   256         ['middle-block____00-2[0][0]']   \n",
      " alization)                                                                                         \n",
      "                                                                                                    \n",
      " upsample________00 (Conv2DTrans  (None, 96, 96, 32)   8224        ['middle-block____00-3[0][0]']   \n",
      " pose)                                                                                              \n",
      "                                                                                                    \n",
      " concat__________00 (Concatenate  (None, 96, 96, 64)   0           ['encode-block____01-3[0][0]',   \n",
      " )                                                                  'upsample________00[0][0]']     \n",
      "                                                                                                    \n",
      " decode-block____00-0 (Conv2D)   (None, 96, 96, 32)    18432       ['concat__________00[0][0]']     \n",
      "                                                                                                    \n",
      " decode-block____00-1 (BatchNorm  (None, 96, 96, 32)   128         ['decode-block____00-0[0][0]']   \n",
      " alization)                                                                                         \n",
      "                                                                                                    \n",
      " decode-block____00-2 (Conv2D)   (None, 96, 96, 32)    9216        ['decode-block____00-1[0][0]']   \n",
      "                                                                                                    \n",
      " decode-block____00-3 (BatchNorm  (None, 96, 96, 32)   128         ['decode-block____00-2[0][0]']   \n",
      " alization)                                                                                         \n",
      "                                                                                                    \n",
      " upsample________01 (Conv2DTrans  (None, 192, 192, 16)  2064       ['decode-block____00-3[0][0]']   \n",
      " pose)                                                                                              \n",
      "                                                                                                    \n",
      " concat__________01 (Concatenate  (None, 192, 192, 32)  0          ['encode-block____00-3[0][0]',   \n",
      " )                                                                  'upsample________01[0][0]']     \n",
      "                                                                                                    \n",
      " decode-block____01-0 (Conv2D)   (None, 192, 192, 16)  4608        ['concat__________01[0][0]']     \n",
      "                                                                                                    \n",
      " decode-block____01-1 (BatchNorm  (None, 192, 192, 16)  64         ['decode-block____01-0[0][0]']   \n",
      " alization)                                                                                         \n",
      "                                                                                                    \n",
      " decode-block____01-2 (Conv2D)   (None, 192, 192, 16)  2304        ['decode-block____01-1[0][0]']   \n",
      "                                                                                                    \n",
      " decode-block____01-3 (BatchNorm  (None, 192, 192, 16)  64         ['decode-block____01-2[0][0]']   \n",
      " alization)                                                                                         \n",
      "                                                                                                    \n",
      " output (Conv2D)                 (None, 192, 192, 1)   17          ['decode-block____01-3[0][0]']   \n",
      "                                                                                                    \n",
      "====================================================================================================\n",
      "Total params: 118,001\n",
      "Trainable params: 117,361\n",
      "Non-trainable params: 640\n",
      "____________________________________________________________________________________________________\n"
     ]
    }
   ],
   "source": [
    "config = dict(\n",
    "    input_width=192,\n",
    "    input_height=192,\n",
    "    input_channels=3,\n",
    "    classes=1,\n",
    "    filters=16,\n",
    "    layers=5,\n",
    "    activation='relu',\n",
    "    batch_norm=True,\n",
    "    output_activation='sigmoid',\n",
    "    kernel_initializer='he_normal',\n",
    "    attention_gates=False,\n",
    "    attention_activation_1='relu',\n",
    "    attention_activation_2='sigmoid',\n",
    "    attention_kernel_size=1,\n",
    "    attention_strides=1,\n",
    "    attention_padding='same',\n",
    "    attention_kernel_initializer='he_normal',\n",
    ")\n",
    "unet = fimu.UNetPipeline(config).build()\n",
    "unet.model.summary(line_length=100)"
   ]
  },
  {
   "cell_type": "code",
   "execution_count": null,
   "id": "ea940ff0-2075-4f7b-a6ea-acc4616dec8d",
   "metadata": {},
   "outputs": [],
   "source": []
  }
 ],
 "metadata": {
  "kernelspec": {
   "display_name": "Python 3 (ipykernel)",
   "language": "python",
   "name": "python3"
  },
  "language_info": {
   "codemirror_mode": {
    "name": "ipython",
    "version": 3
   },
   "file_extension": ".py",
   "mimetype": "text/x-python",
   "name": "python",
   "nbconvert_exporter": "python",
   "pygments_lexer": "ipython3",
   "version": "3.10.9"
  }
 },
 "nbformat": 4,
 "nbformat_minor": 5
}
