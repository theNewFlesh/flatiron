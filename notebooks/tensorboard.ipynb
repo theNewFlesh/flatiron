{
 "cells": [
  {
   "cell_type": "code",
   "execution_count": 3,
   "id": "d9ca7f72-88ce-4f0c-be82-cdeb4311ba49",
   "metadata": {
    "tags": []
   },
   "outputs": [],
   "source": [
    "# import tensorboard.notebook as tbnb\n",
    "# tbnb.start('--bind_all --port=6006 --logdir=/mnt/storage/projects/unet001/tensorboard')"
   ]
  },
  {
   "cell_type": "code",
   "execution_count": null,
   "id": "d9780baf-89c4-49aa-a54c-3e07b3ca186e",
   "metadata": {},
   "outputs": [],
   "source": []
  }
 ],
 "metadata": {
  "kernelspec": {
   "display_name": "Python 3 (ipykernel)",
   "language": "python",
   "name": "python3"
  },
  "language_info": {
   "codemirror_mode": {
    "name": "ipython",
    "version": 3
   },
   "file_extension": ".py",
   "mimetype": "text/x-python",
   "name": "python",
   "nbconvert_exporter": "python",
   "pygments_lexer": "ipython3",
   "version": "3.10.9"
  }
 },
 "nbformat": 4,
 "nbformat_minor": 5
}
